{
 "cells": [
  {
   "cell_type": "markdown",
   "metadata": {},
   "source": [
    "## Testes Iniciais dos Algoritimos de Chave Fonética\n",
    "\n",
    "Bibliotecas utilizadas\n",
    "\n",
    "- NTLK \n",
    "- Bibliotecas com implemetações próprias:\n",
    "    - Algoritimo da seguradora\n",
    "    - Buscabr \n",
    "    - MetaphoneBR\n",
    "- Soundex \n",
    "    - Instalar no Python as bibliotecas soundex e silpa_common"
   ]
  },
  {
   "cell_type": "code",
   "execution_count": 1,
   "metadata": {
    "collapsed": false
   },
   "outputs": [],
   "source": [
    "\n",
    "from foneticaBR import foneticaBR\n",
    "from buscabr import buscaBR\n",
    "from soundex import Soundex\n",
    "from metaphoneBR import metaphoneBR\n",
    "import nltk\n",
    "from nltk.stem.snowball import SnowballStemmer\n",
    "import pandas  as pd\n",
    "from unicodedata import normalize"
   ]
  },
  {
   "cell_type": "code",
   "execution_count": 2,
   "metadata": {
    "collapsed": false,
    "scrolled": true
   },
   "outputs": [],
   "source": [
    "chaveRoberto = foneticaBR()\n",
    "chavebr = buscaBR()\n",
    "chavemeta = metaphoneBR()\n",
    "chavesoundex = Soundex()\n"
   ]
  },
  {
   "cell_type": "markdown",
   "metadata": {},
   "source": [
    "### Importação dos algoritimos RSLP e Snowball (Português) - NLTK "
   ]
  },
  {
   "cell_type": "code",
   "execution_count": null,
   "metadata": {
    "collapsed": false
   },
   "outputs": [],
   "source": [
    "chavesoundex = Soundex()\n",
    "stemmerRSLP = nltk.stem.RSLPStemmer()\n",
    "stemmersnow = SnowballStemmer(\"portuguese\")"
   ]
  },
  {
   "cell_type": "markdown",
   "metadata": {},
   "source": [
    "### Importação de uma Base de Nomes"
   ]
  },
  {
   "cell_type": "code",
   "execution_count": null,
   "metadata": {
    "collapsed": false
   },
   "outputs": [],
   "source": [
    "nomes = pd.read_csv('nomes_unicos.csv')"
   ]
  },
  {
   "cell_type": "code",
   "execution_count": null,
   "metadata": {
    "collapsed": false
   },
   "outputs": [],
   "source": [
    "#nomes.NOME = nomes.NOME.str.decode('cp1252')\n",
    "nomes.head()"
   ]
  },
  {
   "cell_type": "code",
   "execution_count": null,
   "metadata": {
    "collapsed": false
   },
   "outputs": [],
   "source": [
    "texto = nomes[\"NOME\"][39]\n",
    "print chaveRoberto.chavefonetica(texto)\n",
    "print chavebr.chaveBR(texto,False)\n",
    "print chavebr.chaveBR(texto,True)\n",
    "print chavemeta.chaveMetaphoneBR(texto)\n",
    "print chavesoundex.soundex(texto.decode('utf-8'))\n",
    "print stemmerRSLP.stem(texto.decode('utf-8'))\n",
    "print stemmersnow.stem(texto.decode('utf-8'))"
   ]
  },
  {
   "cell_type": "markdown",
   "metadata": {},
   "source": [
    "### Criação de Colunas Novas com o resultado de cada algoritmo\n",
    "\n",
    "1 - RSLP - Sttemer Português (http://www.inf.ufrgs.br/~viviane/rslp/ e http://www.nltk.org/_modules/nltk/stem/rslp.html)\n",
    "\n",
    "2 - SNOWBALL - Sttemer (http://www.nltk.org/howto/stem.html)\n",
    "\n",
    "3 - Chave BuscaBR com retirada das vogais (http://www.linhadecodigo.com.br/artigo/2237/implementando-algoritmo-buscabr.aspx)\n",
    "\n",
    "4 - Chave BuscaBR sem retirada das vogais (http://www.linhadecodigo.com.br/artigo/2237/implementando-algoritmo-buscabr.aspx)\n",
    "\n",
    "5 - Chave Fonetica do Roberto (Lider Seguradora - V0)\n",
    "\n",
    "6 - Chave Fonética Metaphone PTBR (http://informatica.varzeapaulista.sp.gov.br/metaphone/)"
   ]
  },
  {
   "cell_type": "code",
   "execution_count": null,
   "metadata": {
    "collapsed": false
   },
   "outputs": [],
   "source": [
    "from unicodedata import normalize\n",
    "l = len(nomes[\"NOME\"])\n",
    "\n",
    "nomes[\"BUSCABR_SEM_VOGAL\"] = \"\"\n",
    "nomes[\"BUSCABR\"] = \"\"\n",
    "nomes[\"ROBERTO\"] = \"\"\n",
    "nomes[\"METAPHONEBR\"] = \"\"\n",
    "nomes[\"RSLP\"] = \"\"\n",
    "nomes[\"SNOW\"] = \"\"\n",
    "nomes[\"CHAVESOUNDEX\"] = \"\"\n",
    "\n",
    "for i in range(l):\n",
    "    try: \n",
    "        nome = nomes[\"NOME\"][i].upper().strip()\n",
    "        nomes[\"RSLP\"] [i] = stemmerRSLP.stem(nome.decode('utf-8')).upper()\n",
    "        nomes[\"SNOW\"] [i] = stemmersnow.stem(nome.decode('utf-8')).upper()\n",
    "        nomes[\"CHAVESOUNDEX\"] [i] = chavesoundex.soundex(nome.decode('utf-8'))\n",
    "        nomes[\"BUSCABR_SEM_VOGAL\"] [i] =  chavebr.chaveBR(nome,True)\n",
    "        nomes[\"BUSCABR\"] [i] =  chavebr.chaveBR(nome,False)\n",
    "        nomes[\"ROBERTO\"] [i] = chaveRoberto.chavefonetica(nome)\n",
    "        nomes[\"METAPHONEBR\"] [i] = chavemeta.chaveMetaphoneBR(nome)\n",
    "    except:\n",
    "        print nomes[\"NOME\"][i]\n",
    "        "
   ]
  },
  {
   "cell_type": "code",
   "execution_count": null,
   "metadata": {
    "collapsed": false
   },
   "outputs": [],
   "source": [
    "nomes.iloc[:,1:9].to_csv(path_or_buf='nomes_com_chaves_ws.csv',encoding='utf-8',index=False)"
   ]
  },
  {
   "cell_type": "code",
   "execution_count": null,
   "metadata": {
    "collapsed": false
   },
   "outputs": [],
   "source": [
    "nomes_com_chave = pd.read_csv('nomes_com_chaves_ws.csv')"
   ]
  },
  {
   "cell_type": "code",
   "execution_count": null,
   "metadata": {
    "collapsed": false
   },
   "outputs": [],
   "source": [
    "nomes_com_chave.head(20)"
   ]
  },
  {
   "cell_type": "markdown",
   "metadata": {},
   "source": [
    "### Geração de Arquivo com o Resultado da Busca de Todos os Nomes da Base"
   ]
  },
  {
   "cell_type": "code",
   "execution_count": null,
   "metadata": {
    "collapsed": false
   },
   "outputs": [],
   "source": [
    "busca = nomes[\"NOME\"]\n",
    "b = pd.DataFrame() \n",
    "records = []         \n",
    "for palavra in busca:\n",
    "    \n",
    "    chaveFonetica = chavemeta.chaveMetaphoneBR(palavra)\n",
    "    resultadoMPBR =nomes_com_chave[nomes_com_chave['METAPHONEBR']==chaveFonetica].NOME\n",
    "    \n",
    "    chaveFonetica =  chaveRoberto.chavefonetica(palavra)\n",
    "    resultadoLider = nomes_com_chave[nomes_com_chave['ROBERTO']==chaveFonetica.strip()].NOME  \n",
    "    \n",
    "    chaveFonetica = stemmerRSLP.stem(palavra.decode('utf-8')).upper()\n",
    "    resultadoRSLP = nomes_com_chave[nomes_com_chave['RSLP']==chaveFonetica].NOME  \n",
    "    \n",
    "    chaveFonetica = chavesoundex.soundex(palavra.decode('utf-8'))\n",
    "    resultadoSOUND = nomes_com_chave[nomes_com_chave['CHAVESOUNDEX']==chaveFonetica].NOME  \n",
    "    \n",
    "    chaveFonetica = chavebr.chaveBR(palavra,False)\n",
    "    resultadoBSBRP = nomes_com_chave[nomes_com_chave['BUSCABR']==chaveFonetica].NOME  \n",
    "    \n",
    "    chaveFonetica = chavebr.chaveBR(palavra,True)\n",
    "    resultadoBSBRV = nomes_com_chave[nomes_com_chave['BUSCABR_SEM_VOGAL']==chaveFonetica].NOME  \n",
    "    \n",
    "    chaveFonetica = stemmersnow.stem(palavra.decode('utf-8')).upper()\n",
    "    resultadoSNOW = nomes_com_chave[nomes_com_chave['SNOW']==chaveFonetica].NOME      \n",
    "\n",
    "    data = {\"BUSCA\":palavra, \\\n",
    "            \"RSLP\":list(resultadoRSLP.iloc[:].values),\\\n",
    "            \"SNOW\":list(resultadoSNOW.iloc[:].values),\\\n",
    "            \"CHAVESOUNDEX\":list(resultadoSOUND.iloc[:].values),\\\n",
    "            \"BUSCABR_SEM_VOGAL\":list(resultadoBSBRV.iloc[:].values),\\\n",
    "            \"BUSCABR\":list(resultadoBSBRP.iloc[:].values),\\\n",
    "            \"METAPHONEBR\":list(resultadoMPBR.iloc[:].values),\\\n",
    "            \"ROBERTO\":list(resultadoLider.iloc[:].values)} \n",
    "    records.append(data)\n",
    "dfBusca = pd.DataFrame(records,columns=[\"BUSCA\",\"RSLP\",\"SNOW\",\"CHAVESOUNDEX\",\"BUSCABR_SEM_VOGAL\",\"BUSCABR\",\"METAPHONEBR\", \"ROBERTO\"])"
   ]
  },
  {
   "cell_type": "code",
   "execution_count": null,
   "metadata": {
    "collapsed": false
   },
   "outputs": [],
   "source": [
    "dfBusca.to_csv(path_or_buf='resultado_buscas2.csv',encoding='utf-8')\n",
    "dfBusca.head()"
   ]
  },
  {
   "cell_type": "markdown",
   "metadata": {},
   "source": [
    "## Processamento dos Testes"
   ]
  },
  {
   "cell_type": "code",
   "execution_count": null,
   "metadata": {
    "collapsed": false
   },
   "outputs": [],
   "source": [
    "# Função para realização das busca de uma palavra utilizando todas as chaves fonéticas\n",
    "\n",
    "def busca_nome(palavra):     \n",
    "    \n",
    "    chaveFonetica = chavemeta.chaveMetaphoneBR(palavra)\n",
    "    resultadoMPBR =nomes_com_chave[nomes_com_chave['METAPHONEBR']==chaveFonetica].NOME\n",
    "    \n",
    "    chaveFonetica =  chaveRoberto.chavefonetica(palavra)\n",
    "    resultadoRoberto = nomes_com_chave[nomes_com_chave['ROBERTO']==chaveFonetica.strip()].NOME  \n",
    "    \n",
    "    chaveFonetica = stemmerRSLP.stem(palavra.decode('utf-8')).upper()\n",
    "    resultadoRSLP = nomes_com_chave[nomes_com_chave['RSLP']==chaveFonetica].NOME  \n",
    "    \n",
    "    chaveFonetica = chavesoundex.soundex(palavra.decode('utf-8'))\n",
    "    resultadoSOUND = nomes_com_chave[nomes_com_chave['CHAVESOUNDEX']==chaveFonetica].NOME  \n",
    "    \n",
    "    chaveFonetica = chavebr.chaveBR(palavra,False)\n",
    "    resultadoBSBRP = nomes_com_chave[nomes_com_chave['BUSCABR']==chaveFonetica].NOME  \n",
    "    \n",
    "    chaveFonetica = chavebr.chaveBR(palavra,True)\n",
    "    resultadoBSBRV = nomes_com_chave[nomes_com_chave['BUSCABR_SEM_VOGAL']==chaveFonetica].NOME  \n",
    "    \n",
    "    chaveFonetica = stemmersnow.stem(palavra.decode('utf-8')).upper()\n",
    "    resultadoSNOW = nomes_com_chave[nomes_com_chave['SNOW']==chaveFonetica].NOME      \n",
    "\n",
    "    data = {\"RSLP\":{\"NOMESENCONTRADOS\":list(resultadoRSLP.iloc[:].values)},\\\n",
    "            \"SNOW\":{\"NOMESENCONTRADOS\":list(resultadoSNOW.iloc[:].values)},\\\n",
    "            \"CHAVESOUNDEX\":{\"NOMESENCONTRADOS\":list(resultadoSOUND.iloc[:].values)},\\\n",
    "            \"BUSCABR_SEM_VOGAL\":{\"NOMESENCONTRADOS\":list(resultadoBSBRV.iloc[:].values)},\\\n",
    "            \"BUSCABR\":{\"NOMESENCONTRADOS\":list(resultadoBSBRP.iloc[:].values)},\\\n",
    "            \"METAPHONEBR\":{\"NOMESENCONTRADOS\":list(resultadoMPBR.iloc[:].values)},\\\n",
    "            \"ROBERTO\":{\"NOMESENCONTRADOS\":list(resultadoRoberto.iloc[:].values)}\n",
    "            } \n",
    "    return data\n"
   ]
  },
  {
   "cell_type": "code",
   "execution_count": null,
   "metadata": {
    "collapsed": false
   },
   "outputs": [],
   "source": [
    "# Calculo das métricas\n",
    "\n",
    "def contar_ocorrencias(busca,esperado,nomesEncontrados):\n",
    "    acertos = 0\n",
    "    acertosl = 0\n",
    "    fp = 0\n",
    "    fn = 0\n",
    "    fpl= 0\n",
    "    fnl = 0\n",
    "    nomesEncontradosL = []\n",
    "    \n",
    "    for index,item in enumerate(nomesEncontrados):\n",
    "        if nltk.edit_distance(item, busca) <=2 :\n",
    "            nomesEncontradosL.append(item)\n",
    "        \n",
    "    # Calcular Falso negativos\n",
    "    for index,item in enumerate(esperado):\n",
    "        if item in nomesEncontrados:\n",
    "            acertos += 1\n",
    "        else:\n",
    "            fn += 1\n",
    "           \n",
    "    \n",
    "    # Calcular Falso negativos levestein\n",
    "    for index,item in enumerate(esperado):\n",
    "        if item in nomesEncontradosL:\n",
    "            acertosl += 1\n",
    "        else:\n",
    "            fnl += 1\n",
    "               \n",
    "    \n",
    "    #calcular falsos positivos\n",
    "    for index,item in enumerate(nomesEncontrados):\n",
    "        if item not in esperado:\n",
    "            fp += 1\n",
    "                       \n",
    "    #calcular falsos positivos levestein\n",
    "    for index,item in enumerate(nomesEncontradosL):\n",
    "        if item not in esperado:\n",
    "            fpl += 1\n",
    "           \n",
    "    #print('Esperado: ', esperado , ' Encontrados: ' , nomesEncontrados , ' Acertos: ' , str(acertos), 'FP',fp,'FN',fn )     \n",
    "    return acertos,acertosl,fp,fn,fpl,fnl\n",
    "\n",
    "def calculaF1(acertos,fp,fn):\n",
    "\n",
    "    try:\n",
    "        precision = float(acertos)/(acertos+fp)\n",
    "        recall = float(acertos)/(acertos+fn)\n",
    "        return float(2*(precision*recall)/(precision+recall))\n",
    "    except:\n",
    "        return 0.0\n",
    "\n",
    "def calcula(nroarq):\n",
    "    records = []\n",
    "\n",
    "\n",
    "    sumacertos = [0,0,0,0,0,0,0]\n",
    "    sumacertosl = [0,0,0,0,0,0,0]\n",
    "    sumfp = [0,0,0,0,0,0,0]\n",
    "    sumfn = [0,0,0,0,0,0,0]\n",
    "    sumfpl = [0,0,0,0,0,0,0]\n",
    "    sumfnl = [0,0,0,0,0,0,0]\n",
    "\n",
    "    for index,row in buscasdf.iterrows():\n",
    "        busca = row[0]\n",
    "        data = busca_nome(busca)\n",
    "        resultado = row[1].split(',')\n",
    "\n",
    "        #Dados de cada algoritmo\n",
    "        acertos = [0,0,0,0,0,0,0]\n",
    "        acertosl = [0,0,0,0,0,0,0]\n",
    "        fp = [0,0,0,0,0,0,0]\n",
    "        fn = [0,0,0,0,0,0,0]\n",
    "        fpl = [0,0,0,0,0,0,0]\n",
    "        fnl = [0,0,0,0,0,0,0] \n",
    "        f1 = [0,0,0,0,0,0,0] \n",
    "        #RSLP\n",
    "        nomesEncontrados = data['RSLP']['NOMESENCONTRADOS']\n",
    "        acertos[0],acertosl[0],fp[0],fn[0],fpl[0],fnl[0] = contar_ocorrencias(busca,resultado,nomesEncontrados)\n",
    "        sumacertos[0] += acertos[0]\n",
    "        sumacertosl[0] += acertosl[0]\n",
    "        sumfp[0] += fp[0]\n",
    "        sumfn[0] += fn[0]\n",
    "        sumfpl[0] += fpl[0]\n",
    "        sumfnl[0] += fnl[0]\n",
    "\n",
    "        f1[0] = calculaF1(acertos[0],fp[0],fn[0])\n",
    "\n",
    "        #SNOWBALL\n",
    "        nomesEncontrados = data['SNOW']['NOMESENCONTRADOS']\n",
    "        acertos[1],acertosl[1],fp[1],fn[1],fpl[1],fnl[1] = contar_ocorrencias(busca,resultado,nomesEncontrados)\n",
    "        sumacertos[1] += acertos[1]\n",
    "        sumacertosl[1] += acertosl[1]\n",
    "        sumfp[1] += fp[1]\n",
    "        sumfn[1] += fn[1]\n",
    "        sumfpl[1] += fpl[1]\n",
    "        sumfnl[1] += fnl[1]\n",
    "        f1[1] = calculaF1(acertos[1],fp[1],fn[1])\n",
    "\n",
    "        #SOUNDEX\n",
    "        nomesEncontrados = data['CHAVESOUNDEX']['NOMESENCONTRADOS']\n",
    "        acertos[2],acertosl[2],fp[2],fn[2],fpl[2],fnl[2] = contar_ocorrencias(busca,resultado,nomesEncontrados)\n",
    "        sumacertos[2] += acertos[2]\n",
    "        sumacertosl[2] += acertosl[2]\n",
    "        sumfp[2] += fp[2]\n",
    "        sumfn[2] += fn[2]\n",
    "        sumfpl[2] += fpl[2]\n",
    "        sumfnl[2] += fnl[2]\n",
    "        f1[2] = calculaF1(acertos[2],fp[2],fn[2])\n",
    "\n",
    "        #BUSCABR_SEM_VOGAL\n",
    "        nomesEncontrados = data['BUSCABR_SEM_VOGAL']['NOMESENCONTRADOS']\n",
    "        acertos[3],acertosl[3],fp[3],fn[3],fpl[3],fnl[3] = contar_ocorrencias(busca,resultado,nomesEncontrados)\n",
    "        sumacertos[3] += acertos[3]\n",
    "        sumacertosl[3] += acertosl[3]\n",
    "        sumfp[3] += fp[3]\n",
    "        sumfn[3] += fn[3]\n",
    "        sumfpl[3] += fpl[3]\n",
    "        sumfnl[3] += fnl[3]\n",
    "        f1[3] = calculaF1(acertos[3],fp[3],fn[3])\n",
    "\n",
    "        #BUSCABR\n",
    "        nomesEncontrados = data['BUSCABR']['NOMESENCONTRADOS']\n",
    "        acertos[4],acertosl[4],fp[4],fn[4],fpl[4],fnl[4] = contar_ocorrencias(busca,resultado,nomesEncontrados)\n",
    "        sumacertos[4] += acertos[4]\n",
    "        sumacertosl[4] += acertosl[4]\n",
    "        sumfp[4] += fp[4]\n",
    "        sumfn[4] += fn[4]\n",
    "        sumfpl[4] += fpl[4]\n",
    "        sumfnl[4] += fnl[4]\n",
    "        f1[4] = calculaF1(acertos[4],fp[4],fn[4])\n",
    "\n",
    "        #METAPHONE\n",
    "        nomesEncontrados = data['METAPHONEBR']['NOMESENCONTRADOS']\n",
    "        acertos[5],acertosl[5],fp[5],fn[5],fpl[5],fnl[5] = contar_ocorrencias(busca,resultado,nomesEncontrados)\n",
    "        sumacertos[5] += acertos[5]\n",
    "        sumacertosl[5] += acertosl[5]\n",
    "        sumfp[5] += fp[5]\n",
    "        sumfn[5] += fn[5]\n",
    "        sumfpl[5] += fpl[5]\n",
    "        sumfnl[5] += fnl[5]\n",
    "        f1[5] = calculaF1(acertos[5],fp[5],fn[5])\n",
    "\n",
    "        #ROBERTO\n",
    "        nomesEncontrados = data['ROBERTO']['NOMESENCONTRADOS']\n",
    "        acertos[6],acertosl[6],fp[6],fn[6],fpl[6],fnl[6] = contar_ocorrencias(busca,resultado,nomesEncontrados)\n",
    "        sumacertos[6] += acertos[6]\n",
    "        sumacertosl[6] += acertosl[6]\n",
    "        sumfp[6] += fp[6]\n",
    "        sumfn[6] += fn[6]\n",
    "        sumfpl[6] += fpl[6]\n",
    "        sumfnl[6] += fnl[6]\n",
    "        f1[6] = calculaF1(acertos[6],fp[6],fn[6])\n",
    "\n",
    "\n",
    "        linha ={\"BUSCA\":busca,\"Resultado Esperado\": row['Retorno Esperado'],\\\n",
    "                'RSLP': data['RSLP']['NOMESENCONTRADOS'],\"ACRSLP\": str( acertos[0]),\"FPRSLP\": str(fp[0]),\"FNRSLP\":str(fn[0]),\"F1RSLP\":str(f1[0]),\\\n",
    "                'SNOW': data['SNOW']['NOMESENCONTRADOS'],\"ACSNOW\": str( acertos[1]),\"FPSNOW\": str(fp[1]),\"FNSNOW\":str(fn[1]),\"F1SNOW\":str(f1[1]),\\\n",
    "                'CHAVESOUNDEX': data['CHAVESOUNDEX']['NOMESENCONTRADOS'],\"ACCHAVESOUNDEX\": str( acertos[2]),\"FPCHAVESOUNDEX\": str(fp[2]),\"FNCHAVESOUNDEX\":str(fn[2]),\"F1CHAVESOUNDEX\":str(f1[2]),\\\n",
    "                'BUSCABR_SEM_VOGAL': data['BUSCABR_SEM_VOGAL']['NOMESENCONTRADOS'],\"ACBUSCABRSV\": str( acertos[3]),\"FPBUSCABRSV\": str(fp[3]),\"FNBUSCABRSV\":str(fn[3]),\"F1BUSCABRSV\":str(f1[3]),\\\n",
    "                'BUSCABR': data['BUSCABR']['NOMESENCONTRADOS'],\"ACBUSCABR\": str( acertos[4]),\"FPBUSCABR\": str(fp[4]),\"FNBUSCABR\":str(fn[4]),\"F1BUSCABR\":str(f1[4]),\\\n",
    "                'METAPHONEBR': data['METAPHONEBR']['NOMESENCONTRADOS'],\"ACMETAPHONEBR\": str(acertos[5]),\"FPMETAPHONEBR\": str(fp[5]),\"FNMETAPHONEBR\":str(fn[5]),\"F1METAPHONEBR\":str(f1[5]),\\\n",
    "                'ROBERTO': data['ROBERTO']['NOMESENCONTRADOS'],\"ACROBERTO\": str( acertos[6]),\"FPROBERTO\": str(fp[6]),\"FNROBERTO\":str(fn[6]),\"F1ROBERTO\":str(f1[6])  }\n",
    "\n",
    "        records.append(linha)\n",
    "\n",
    "\n",
    "    #Gerar linha com sumarizacao    \n",
    "    linha ={\"BUSCA\":\"\",\"Resultado Esperado\": \"\",\\\n",
    "            'RSLP': \"\",\"ACRSLP\": str( sumacertos[0]),\"FPRSLP\": str(sumfp[0]),\"FNRSLP\":str(sumfn[0]),\\\n",
    "            'SNOW': \"\",\"ACSNOW\": str( sumacertos[1]),\"FPSNOW\": str(sumfp[1]),\"FNSNOW\":str(sumfn[1]),\\\n",
    "            'CHAVESOUNDEX': \"\",\"ACCHAVESOUNDEX\": str( sumacertos[2]),\"FPCHAVESOUNDEX\": str(sumfp[2]),\"FNCHAVESOUNDEX\":str(sumfn[2]),\\\n",
    "            'BUSCABR_SEM_VOGAL':\"\",\"ACBUSCABRSV\": str( sumacertos[3]),\"FPBUSCABRSV\": str(sumfp[3]),\"FNBUSCABRSV\":str(sumfn[3]),\\\n",
    "            'BUSCABR': \"\",\"ACBUSCABR\": str( sumacertos[4]),\"FPBUSCABR\": str(sumfp[4]),\"FNBUSCABR\":str(sumfn[4]),\\\n",
    "            'METAPHONEBR': \"\",\"ACMETAPHONEBR\": str( sumacertos[5]),\"FPMETAPHONEBR\": str(sumfp[5]),\"FNMETAPHONEBR\":str(sumfn[5]),\\\n",
    "            'ROBERTO': \"\",\"ACROBERTO\": str( sumacertos[6]),\"FPROBERTO\": str(sumfp[6]),\"FNROBERTO\":str(sumfn[6]) }\n",
    "\n",
    "    records.append(linha)\n",
    "\n",
    "\n",
    "    #Gerar metrica F1\n",
    "\n",
    "    # Os nomes das colunas devem seguir o mesmo padrao por causa da serialização em arquivo do pandas\n",
    "    linha = {\"BUSCA\":\"Algoritmo\",\"Resultado Esperado\":\"Precision\",\"RSLP\":\"Recall\",\"ACRSLP\":\"F1\"}\n",
    "    records.append(linha)\n",
    "\n",
    "    algoritmos =[\"RSLP\",\"SNOWBALL\",\"SOUNDEX\",\"BUSCABR_SEM_VOGAL\",\"BUSCABR\",\"METAPHONEBR\",\"ROBERTO\"]\n",
    "\n",
    "    for x in range(0, 7): \n",
    "\n",
    "        precision = float(sumacertos[x])/(sumacertos[x]+sumfp[x])\n",
    "        recall = float(sumacertos[x])/(sumacertos[x]+sumfn[x])\n",
    "        f1 = float(2*(precision*recall)/(precision+recall))\n",
    "\n",
    "        precisionl = float(sumacertosl[x])/(sumacertosl[x]+sumfpl[x])\n",
    "        recalll = float(sumacertosl[x])/(sumacertosl[x]+sumfnl[x])\n",
    "        f1l = float(2*(precisionl*recalll)/(precisionl+recalll))   \n",
    "\n",
    "        linha = {\"BUSCA\":algoritmos[x],\"Resultado Esperado\":'{percent:.2%}'.format(percent=precision).replace('.',','),\n",
    "                 \"RSLP\":'{percent:.2%}'.format(percent=recall).replace('.',','),\"ACRSLP\":'{percent:.2%}'.format(percent=f1).replace('.',',')}\n",
    "\n",
    "        records.append(linha)\n",
    "\n",
    "        linha = {\"BUSCA\":algoritmos[x] + \" Levenshtein\",\"Resultado Esperado\":'{percent:.2%}'.format(percent=precisionl).replace('.',','),\n",
    "                 \"RSLP\":'{percent:.2%}'.format(percent=recalll).replace('.',','),\"ACRSLP\":'{percent:.2%}'.format(percent=f1l).replace('.',',')}\n",
    "\n",
    "        records.append(linha)    \n",
    "\n",
    "    df = pd.DataFrame(records,columns=[\"BUSCA\",\"Resultado Esperado\",\\\n",
    "                                       \"RSLP\",\"ACRSLP\",\"FPRSLP\",\"FNRSLP\",\"F1RSLP\",\\\n",
    "                                       \"SNOW\",\"ACSNOW\",\"FPSNOW\",\"FNSNOW\",\"F1SNOW\",\n",
    "                                       \"CHAVESOUNDEX\",\"ACCHAVESOUNDEX\",\"FPCHAVESOUNDEX\",\"FNCHAVESOUNDEX\",\"F1CHAVESOUNDEX\",\n",
    "                                       \"BUSCABR_SEM_VOGAL\",\"ACBUSCABRSV\",\"FPBUSCABRSV\",\"FNBUSCABRSV\",\"F1BUSCABRSV\",\n",
    "                                       \"BUSCABR\",\"ACBUSCABR\",\"FPBUSCABR\",\"FNBUSCABR\",\"F1BUSCABR\",\n",
    "                                       \"METAPHONEBR\",\"ACMETAPHONEBR\",\"FPMETAPHONEBR\",\"FNMETAPHONEBR\",\"F1METAPHONEBR\",\n",
    "                                       \"ROBERTO\",\"ACROBERTO\",\"FPROBERTO\",\"FNROBERTO\",\"F1ROBERTO\"])  \n",
    "\n",
    "\n",
    "\n",
    "    #Gravando o resultado em CSV\n",
    "    nomearq = 'testes_automaticos_' + str(nroarq)+ '.csv'\n",
    "    df.to_csv(path_or_buf=nomearq,index=False,encoding='utf-8',sep=\";\")    "
   ]
  },
  {
   "cell_type": "code",
   "execution_count": null,
   "metadata": {
    "collapsed": false
   },
   "outputs": [],
   "source": [
    "qtds = [214]\n",
    "for nroarq in qtds:\n",
    "    #Carga do arquivo que contem os nomes para busca e os resultados esperados para cada nome de acordo com a base utilizada\n",
    "    nome_arq = 'buscas_'+str(nroarq)+'.csv'\n",
    "    print('Lendo ' + nome_arq)\n",
    "    buscasdf = pd.read_csv(filepath_or_buffer=nome_arq, sep=';')\n",
    "    calcula(nroarq)"
   ]
  },
  {
   "cell_type": "markdown",
   "metadata": {
    "collapsed": true
   },
   "source": [
    "## Verificando o desempenho dos algoritmos na geração das chaves fonéticas"
   ]
  },
  {
   "cell_type": "code",
   "execution_count": 34,
   "metadata": {
    "collapsed": false
   },
   "outputs": [
    {
     "name": "stdout",
     "output_type": "stream",
     "text": [
      "Tempo BuscaBR Sem Vogal:  0.375\n"
     ]
    }
   ],
   "source": [
    "import time\n",
    "\n",
    "#Calcular chave BR sem vogal\n",
    "inicio = time.time()\n",
    "for idx,row in nomes.iterrows():\n",
    "    palavra = row[\"NOME\"]\n",
    "    chaveFonetica = chavebr.chaveBR(palavra,True)\n",
    "    \n",
    "fim = time.time()\n",
    "\n",
    "print \"Tempo BuscaBR Sem Vogal: \", fim-inicio"
   ]
  },
  {
   "cell_type": "code",
   "execution_count": 33,
   "metadata": {
    "collapsed": false
   },
   "outputs": [
    {
     "name": "stdout",
     "output_type": "stream",
     "text": [
      "Tempo BuscaBR Com Vogal:  0.384000062943\n"
     ]
    }
   ],
   "source": [
    "import time\n",
    "\n",
    "#Calcular chave BR com vogal\n",
    "inicio = time.time()\n",
    "for idx,row in nomes.iterrows():\n",
    "    palavra = row[\"NOME\"]\n",
    "    chaveFonetica = chavebr.chaveBR(palavra,False)   \n",
    "fim = time.time()\n",
    "\n",
    "print \"Tempo BuscaBR Com Vogal: \", fim-inicio"
   ]
  },
  {
   "cell_type": "code",
   "execution_count": 32,
   "metadata": {
    "collapsed": false
   },
   "outputs": [
    {
     "name": "stdout",
     "output_type": "stream",
     "text": [
      "Tempo BuscaBR Sem Vogal:  1.76600003242\n"
     ]
    }
   ],
   "source": [
    "import time\n",
    "\n",
    "#Calcular chave BR sem vogal\n",
    "inicio = time.time()\n",
    "for idx,row in nomes.iterrows():\n",
    "    palavra = row[\"NOME\"]\n",
    "    chaveFonetica = chaveRoberto.chavefonetica(palavra)\n",
    "\n",
    "fim = time.time()\n",
    "\n",
    "print \"Tempo BuscaBR Sem Vogal: \", fim-inicio"
   ]
  },
  {
   "cell_type": "code",
   "execution_count": null,
   "metadata": {
    "collapsed": true
   },
   "outputs": [],
   "source": []
  }
 ],
 "metadata": {
  "anaconda-cloud": {},
  "kernelspec": {
   "display_name": "Python [conda root]",
   "language": "python",
   "name": "conda-root-py"
  },
  "language_info": {
   "codemirror_mode": {
    "name": "ipython",
    "version": 2
   },
   "file_extension": ".py",
   "mimetype": "text/x-python",
   "name": "python",
   "nbconvert_exporter": "python",
   "pygments_lexer": "ipython2",
   "version": "2.7.12"
  }
 },
 "nbformat": 4,
 "nbformat_minor": 0
}
