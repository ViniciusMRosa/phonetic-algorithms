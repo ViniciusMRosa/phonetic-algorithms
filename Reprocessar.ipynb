{
 "cells": [
  {
   "cell_type": "code",
   "execution_count": 1,
   "metadata": {
    "collapsed": true
   },
   "outputs": [],
   "source": [
    "import nltk\n",
    "import pandas  as pd\n",
    "from Fonetica import fonetica\n",
    "chave = fonetica()"
   ]
  },
  {
   "cell_type": "code",
   "execution_count": 2,
   "metadata": {
    "collapsed": false
   },
   "outputs": [],
   "source": [
    "nomes = pd.read_csv('nomes_com_chaves_ws.csv',encoding='utf-8')\n"
   ]
  },
  {
   "cell_type": "code",
   "execution_count": 3,
   "metadata": {
    "collapsed": false
   },
   "outputs": [
    {
     "data": {
      "text/html": [
       "<div>\n",
       "<table border=\"1\" class=\"dataframe\">\n",
       "  <thead>\n",
       "    <tr style=\"text-align: right;\">\n",
       "      <th></th>\n",
       "      <th>Unnamed: 0</th>\n",
       "      <th>ID</th>\n",
       "      <th>NOME</th>\n",
       "      <th>BUSCABRV</th>\n",
       "      <th>BUSCABR</th>\n",
       "      <th>LIDER</th>\n",
       "      <th>METAPHONEBR</th>\n",
       "      <th>RSLP</th>\n",
       "      <th>SNOW</th>\n",
       "      <th>CHAVESOUNDEX</th>\n",
       "    </tr>\n",
       "  </thead>\n",
       "  <tbody>\n",
       "    <tr>\n",
       "      <th>0</th>\n",
       "      <td>0</td>\n",
       "      <td>1</td>\n",
       "      <td>ABDALA</td>\n",
       "      <td>BDR</td>\n",
       "      <td>ABDARA</td>\n",
       "      <td>BDLA</td>\n",
       "      <td>ABDL</td>\n",
       "      <td>ABDAL</td>\n",
       "      <td>ABDAL</td>\n",
       "      <td>A134</td>\n",
       "    </tr>\n",
       "    <tr>\n",
       "      <th>1</th>\n",
       "      <td>1</td>\n",
       "      <td>2</td>\n",
       "      <td>ABDIAS</td>\n",
       "      <td>BD</td>\n",
       "      <td>ABDIA</td>\n",
       "      <td>BDIAS</td>\n",
       "      <td>ABDS</td>\n",
       "      <td>ABD</td>\n",
       "      <td>ABDI</td>\n",
       "      <td>A132</td>\n",
       "    </tr>\n",
       "    <tr>\n",
       "      <th>2</th>\n",
       "      <td>2</td>\n",
       "      <td>3</td>\n",
       "      <td>ABEILARD</td>\n",
       "      <td>BRD</td>\n",
       "      <td>ABEIRARD</td>\n",
       "      <td>BLARD</td>\n",
       "      <td>ABLRD</td>\n",
       "      <td>ABEILARD</td>\n",
       "      <td>ABEILARD</td>\n",
       "      <td>A1463</td>\n",
       "    </tr>\n",
       "    <tr>\n",
       "      <th>3</th>\n",
       "      <td>3</td>\n",
       "      <td>4</td>\n",
       "      <td>ABEL</td>\n",
       "      <td>B</td>\n",
       "      <td>ABE</td>\n",
       "      <td>ABL</td>\n",
       "      <td>ABL</td>\n",
       "      <td>ABEL</td>\n",
       "      <td>ABEL</td>\n",
       "      <td>A14</td>\n",
       "    </tr>\n",
       "    <tr>\n",
       "      <th>4</th>\n",
       "      <td>4</td>\n",
       "      <td>5</td>\n",
       "      <td>ABELA</td>\n",
       "      <td>BR</td>\n",
       "      <td>ABERA</td>\n",
       "      <td>ABL</td>\n",
       "      <td>ABL</td>\n",
       "      <td>ABEL</td>\n",
       "      <td>ABEL</td>\n",
       "      <td>A14</td>\n",
       "    </tr>\n",
       "  </tbody>\n",
       "</table>\n",
       "</div>"
      ],
      "text/plain": [
       "   Unnamed: 0  ID      NOME BUSCABRV   BUSCABR  LIDER METAPHONEBR      RSLP  \\\n",
       "0           0   1    ABDALA      BDR    ABDARA   BDLA        ABDL     ABDAL   \n",
       "1           1   2    ABDIAS       BD     ABDIA  BDIAS        ABDS       ABD   \n",
       "2           2   3  ABEILARD      BRD  ABEIRARD  BLARD       ABLRD  ABEILARD   \n",
       "3           3   4      ABEL        B       ABE    ABL         ABL      ABEL   \n",
       "4           4   5     ABELA       BR     ABERA    ABL         ABL      ABEL   \n",
       "\n",
       "       SNOW CHAVESOUNDEX  \n",
       "0     ABDAL         A134  \n",
       "1      ABDI         A132  \n",
       "2  ABEILARD        A1463  \n",
       "3      ABEL          A14  \n",
       "4      ABEL          A14  "
      ]
     },
     "execution_count": 3,
     "metadata": {},
     "output_type": "execute_result"
    }
   ],
   "source": [
    "nomes.head()"
   ]
  },
  {
   "cell_type": "code",
   "execution_count": 4,
   "metadata": {
    "collapsed": false
   },
   "outputs": [
    {
     "name": "stderr",
     "output_type": "stream",
     "text": [
      "C:\\Users\\Vinicius Martins\\Anaconda2\\lib\\site-packages\\ipykernel\\__main__.py:8: SettingWithCopyWarning: \n",
      "A value is trying to be set on a copy of a slice from a DataFrame\n",
      "\n",
      "See the caveats in the documentation: http://pandas.pydata.org/pandas-docs/stable/indexing.html#indexing-view-versus-copy\n"
     ]
    }
   ],
   "source": [
    "from unicodedata import normalize\n",
    "l = len(nomes[\"NOME\"])\n",
    "\n",
    "\n",
    "nomes[\"METAPHONEBR\"] = \"\"\n",
    "\n",
    "for i in range(l):\n",
    "    nomes[\"METAPHONEBR\"] [i] = chave.metaphoneBR(nomes[\"NOME\"][i]).upper().strip()"
   ]
  },
  {
   "cell_type": "code",
   "execution_count": 5,
   "metadata": {
    "collapsed": true
   },
   "outputs": [],
   "source": [
    "nomes.to_csv(path_or_buf='nomes_com_chaves_ws.csv',index=False,encoding='utf-8')    "
   ]
  },
  {
   "cell_type": "code",
   "execution_count": 6,
   "metadata": {
    "collapsed": false
   },
   "outputs": [
    {
     "data": {
      "text/plain": [
       "'AFLMN '"
      ]
     },
     "execution_count": 6,
     "metadata": {},
     "output_type": "execute_result"
    }
   ],
   "source": [
    "chave.metaphoneBR('APHILOMENA')"
   ]
  },
  {
   "cell_type": "code",
   "execution_count": null,
   "metadata": {
    "collapsed": true
   },
   "outputs": [],
   "source": []
  },
  {
   "cell_type": "code",
   "execution_count": null,
   "metadata": {
    "collapsed": true
   },
   "outputs": [],
   "source": []
  }
 ],
 "metadata": {
  "anaconda-cloud": {},
  "kernelspec": {
   "display_name": "Python [conda root]",
   "language": "python",
   "name": "conda-root-py"
  },
  "language_info": {
   "codemirror_mode": {
    "name": "ipython",
    "version": 2
   },
   "file_extension": ".py",
   "mimetype": "text/x-python",
   "name": "python",
   "nbconvert_exporter": "python",
   "pygments_lexer": "ipython2",
   "version": "2.7.12"
  }
 },
 "nbformat": 4,
 "nbformat_minor": 0
}
