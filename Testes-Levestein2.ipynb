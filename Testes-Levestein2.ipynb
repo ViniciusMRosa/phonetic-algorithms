{
 "cells": [
  {
   "cell_type": "code",
   "execution_count": 1,
   "metadata": {
    "collapsed": false
   },
   "outputs": [],
   "source": [
    "#Webservice que faz a busca da chave da Lider\n",
    "    \n",
    "from suds.client import Client\n",
    "\n",
    "url = \"http://mundoincrivel.com.br/fonetica.asmx?wsdl\"\n",
    "\n",
    "cliente = Client(url)\n",
    "\n",
    "resultado = cliente.service.Transformar('THEREZA')"
   ]
  },
  {
   "cell_type": "code",
   "execution_count": 2,
   "metadata": {
    "collapsed": false
   },
   "outputs": [
    {
     "data": {
      "text/plain": [
       "'J '"
      ]
     },
     "execution_count": 2,
     "metadata": {},
     "output_type": "execute_result"
    }
   ],
   "source": [
    "#Importando bibliotecas necessarias\n",
    "import nltk\n",
    "from nltk.stem.snowball import SnowballStemmer\n",
    "import pandas  as pd\n",
    "from soundex import Soundex\n",
    "from Fonetica import fonetica\n",
    "\n",
    "chave =fonetica()\n",
    "chave.metaphoneBR('JOAO')"
   ]
  },
  {
   "cell_type": "code",
   "execution_count": 5,
   "metadata": {
    "collapsed": true
   },
   "outputs": [],
   "source": [
    "#Funçoes utilitarias de testes\n",
    "\n",
    "def busca_nome(palavra):     \n",
    "    chaveFonetica = chave.metaphoneBR(palavra)\n",
    "    resultadoMPBR = nomes_com_chave[nomes_com_chave['METAPHONEBR']==chaveFonetica.strip()].NOME\n",
    "    \n",
    "    chaveFonetica =  cliente.service.Transformar(palavra)\n",
    "    resultadoLider = nomes_com_chave[nomes_com_chave['LIDER']==chaveFonetica.strip()].NOME  \n",
    "    \n",
    "    chaveFonetica = stemmerRSLP.stem(palavra)\n",
    "    resultadoRSLP = nomes_com_chave[nomes_com_chave['RSLP']==chaveFonetica.upper()].NOME  \n",
    "    \n",
    "    chaveFonetica = chavesoundex.soundex(palavra)\n",
    "    resultadoSOUND = nomes_com_chave[nomes_com_chave['CHAVESOUNDEX']==chaveFonetica].NOME  \n",
    "    \n",
    "    chaveFonetica = chave.chavefoneticaBR(unicode(palavra),False)\n",
    "    resultadoBSBRP = nomes_com_chave[nomes_com_chave['BUSCABR']==chaveFonetica].NOME  \n",
    "    \n",
    "    chaveFonetica = chave.chavefoneticaBR(unicode(palavra),True)\n",
    "    resultadoBSBRV = nomes_com_chave[nomes_com_chave['BUSCABRV']==chaveFonetica].NOME  \n",
    "    \n",
    "    chaveFonetica = stemmersnow.stem(palavra)\n",
    "    resultadoSNOW = nomes_com_chave[nomes_com_chave['SNOW']==chaveFonetica.upper()].NOME      \n",
    "\n",
    "    data = {\"RSLP\":{\"NOMESENCONTRADOS\":list(resultadoRSLP.iloc[:].values)},\\\n",
    "            \"SNOW\":{\"NOMESENCONTRADOS\":list(resultadoSNOW.iloc[:].values)},\\\n",
    "            \"CHAVESOUNDEX\":{\"NOMESENCONTRADOS\":list(resultadoSOUND.iloc[:].values)},\\\n",
    "            \"BUSCABRV\":{\"NOMESENCONTRADOS\":list(resultadoBSBRV.iloc[:].values)},\\\n",
    "            \"BUSCABR\":{\"NOMESENCONTRADOS\":list(resultadoBSBRP.iloc[:].values)},\\\n",
    "            \"METAPHONEBR\":{\"NOMESENCONTRADOS\":list(resultadoMPBR.iloc[:].values)},\\\n",
    "            \"LIDER\":{\"NOMESENCONTRADOS\":list(resultadoLider.iloc[:].values)}\n",
    "            } \n",
    "    return data\n",
    "\n",
    "def contar_ocorrencias(busca,esperado,nomesEncontrados):\n",
    "    acertos = 0\n",
    "    acertosl = 0\n",
    "    fp = 0\n",
    "    fn = 0\n",
    "    fpl= 0\n",
    "    fnl = 0\n",
    "    nomesEncontradosL = []\n",
    "    \n",
    "    for index,item in enumerate(nomesEncontrados):\n",
    "        if nltk.edit_distance(item, busca) <=2 :\n",
    "            nomesEncontradosL.append(item)\n",
    "        \n",
    "    # Calcular Falso negativos\n",
    "    for index,item in enumerate(esperado):\n",
    "        if item in nomesEncontrados:\n",
    "            acertos += 1\n",
    "        else:\n",
    "            fn += 1\n",
    "           \n",
    "    \n",
    "    # Calcular Falso negativos levestein\n",
    "    for index,item in enumerate(esperado):\n",
    "        if item in nomesEncontradosL:\n",
    "            acertosl += 1\n",
    "        else:\n",
    "            fnl += 1\n",
    "               \n",
    "    \n",
    "    #calcular falsos positivos\n",
    "    for index,item in enumerate(nomesEncontrados):\n",
    "        if item not in esperado:\n",
    "            fp += 1\n",
    "                       \n",
    "    #calcular falsos positivos levestein\n",
    "    for index,item in enumerate(nomesEncontradosL):\n",
    "        if item not in esperado:\n",
    "            fpl += 1\n",
    "           \n",
    "    #print('Esperado: ', esperado , ' Encontrados: ' , nomesEncontrados , ' Acertos: ' , str(acertos), 'FP',fp,'FN',fn )     \n",
    "    return acertos,acertosl,fp,fn,fpl,fnl\n",
    "\n",
    "def calculaF1(acertos,fp,fn):\n",
    "\n",
    "    try:\n",
    "        precision = float(acertos)/(acertos+fp)\n",
    "        recall = float(acertos)/(acertos+fn)\n",
    "        return float(2*(precision*recall)/(precision+recall))\n",
    "    except:\n",
    "        return 0.0"
   ]
  },
  {
   "cell_type": "code",
   "execution_count": 7,
   "metadata": {
    "collapsed": false
   },
   "outputs": [],
   "source": [
    "#Inicializacao dos objetos \n",
    "chavesoundex = Soundex()\n",
    "stemmerRSLP = nltk.stem.RSLPStemmer()\n",
    "stemmersnow = SnowballStemmer(\"portuguese\")\n",
    "chave = fonetica()\n",
    "\n",
    "#Carga do arquivo que tem os nomes e as respectivas chaves geradas anteriormente ja gravadas, simulando uma base de dados\n",
    "nomes_com_chave = pd.read_csv('nomes_com_chaves_ws.csv')\n"
   ]
  },
  {
   "cell_type": "code",
   "execution_count": 14,
   "metadata": {
    "collapsed": false
   },
   "outputs": [],
   "source": [
    "def calcula(nroarq):\n",
    "    records = []\n",
    "\n",
    "\n",
    "    sumacertos = [0,0,0,0,0,0,0]\n",
    "    sumacertosl = [0,0,0,0,0,0,0]\n",
    "    sumfp = [0,0,0,0,0,0,0]\n",
    "    sumfn = [0,0,0,0,0,0,0]\n",
    "    sumfpl = [0,0,0,0,0,0,0]\n",
    "    sumfnl = [0,0,0,0,0,0,0]\n",
    "\n",
    "    for index,row in buscasdf.iterrows():\n",
    "        busca = row['BUSCA']\n",
    "        data = busca_nome(busca)\n",
    "        resultado = row['Retorno Esperado'].split(',')\n",
    "\n",
    "        #Dados de cada algoritmo\n",
    "        acertos = [0,0,0,0,0,0,0]\n",
    "        acertosl = [0,0,0,0,0,0,0]\n",
    "        fp = [0,0,0,0,0,0,0]\n",
    "        fn = [0,0,0,0,0,0,0]\n",
    "        fpl = [0,0,0,0,0,0,0]\n",
    "        fnl = [0,0,0,0,0,0,0] \n",
    "        f1 = [0,0,0,0,0,0,0] \n",
    "        #RSLP\n",
    "        nomesEncontrados = data['RSLP']['NOMESENCONTRADOS']\n",
    "        acertos[0],acertosl[0],fp[0],fn[0],fpl[0],fnl[0] = contar_ocorrencias(busca,resultado,nomesEncontrados)\n",
    "        sumacertos[0] += acertos[0]\n",
    "        sumacertosl[0] += acertosl[0]\n",
    "        sumfp[0] += fp[0]\n",
    "        sumfn[0] += fn[0]\n",
    "        sumfpl[0] += fpl[0]\n",
    "        sumfnl[0] += fnl[0]\n",
    "\n",
    "        f1[0] = calculaF1(acertos[0],fp[0],fn[0])\n",
    "\n",
    "        #SNOWBALL\n",
    "        nomesEncontrados = data['SNOW']['NOMESENCONTRADOS']\n",
    "        acertos[1],acertosl[1],fp[1],fn[1],fpl[1],fnl[1] = contar_ocorrencias(busca,resultado,nomesEncontrados)\n",
    "        sumacertos[1] += acertos[1]\n",
    "        sumacertosl[1] += acertosl[1]\n",
    "        sumfp[1] += fp[1]\n",
    "        sumfn[1] += fn[1]\n",
    "        sumfpl[1] += fpl[1]\n",
    "        sumfnl[1] += fnl[1]\n",
    "        f1[1] = calculaF1(acertos[1],fp[1],fn[1])\n",
    "\n",
    "        #SOUNDEX\n",
    "        nomesEncontrados = data['CHAVESOUNDEX']['NOMESENCONTRADOS']\n",
    "        acertos[2],acertosl[2],fp[2],fn[2],fpl[2],fnl[2] = contar_ocorrencias(busca,resultado,nomesEncontrados)\n",
    "        sumacertos[2] += acertos[2]\n",
    "        sumacertosl[2] += acertosl[2]\n",
    "        sumfp[2] += fp[2]\n",
    "        sumfn[2] += fn[2]\n",
    "        sumfpl[2] += fpl[2]\n",
    "        sumfnl[2] += fnl[2]\n",
    "        f1[2] = calculaF1(acertos[2],fp[2],fn[2])\n",
    "\n",
    "        #BUSCABRV\n",
    "        nomesEncontrados = data['BUSCABRV']['NOMESENCONTRADOS']\n",
    "        acertos[3],acertosl[3],fp[3],fn[3],fpl[3],fnl[3] = contar_ocorrencias(busca,resultado,nomesEncontrados)\n",
    "        sumacertos[3] += acertos[3]\n",
    "        sumacertosl[3] += acertosl[3]\n",
    "        sumfp[3] += fp[3]\n",
    "        sumfn[3] += fn[3]\n",
    "        sumfpl[3] += fpl[3]\n",
    "        sumfnl[3] += fnl[3]\n",
    "        f1[3] = calculaF1(acertos[3],fp[3],fn[3])\n",
    "\n",
    "        #BUSCABR\n",
    "        nomesEncontrados = data['BUSCABR']['NOMESENCONTRADOS']\n",
    "        acertos[4],acertosl[4],fp[4],fn[4],fpl[4],fnl[4] = contar_ocorrencias(busca,resultado,nomesEncontrados)\n",
    "        sumacertos[4] += acertos[4]\n",
    "        sumacertosl[4] += acertosl[4]\n",
    "        sumfp[4] += fp[4]\n",
    "        sumfn[4] += fn[4]\n",
    "        sumfpl[4] += fpl[4]\n",
    "        sumfnl[4] += fnl[4]\n",
    "        f1[4] = calculaF1(acertos[4],fp[4],fn[4])\n",
    "\n",
    "        #METAPHONE\n",
    "        nomesEncontrados = data['METAPHONEBR']['NOMESENCONTRADOS']\n",
    "        acertos[5],acertosl[5],fp[5],fn[5],fpl[5],fnl[5] = contar_ocorrencias(busca,resultado,nomesEncontrados)\n",
    "        sumacertos[5] += acertos[5]\n",
    "        sumacertosl[5] += acertosl[5]\n",
    "        sumfp[5] += fp[5]\n",
    "        sumfn[5] += fn[5]\n",
    "        sumfpl[5] += fpl[5]\n",
    "        sumfnl[5] += fnl[5]\n",
    "        f1[5] = calculaF1(acertos[5],fp[5],fn[5])\n",
    "\n",
    "        #LIDER\n",
    "        nomesEncontrados = data['LIDER']['NOMESENCONTRADOS']\n",
    "        acertos[6],acertosl[6],fp[6],fn[6],fpl[6],fnl[6] = contar_ocorrencias(busca,resultado,nomesEncontrados)\n",
    "        sumacertos[6] += acertos[6]\n",
    "        sumacertosl[6] += acertosl[6]\n",
    "        sumfp[6] += fp[6]\n",
    "        sumfn[6] += fn[6]\n",
    "        sumfpl[6] += fpl[6]\n",
    "        sumfnl[6] += fnl[6]\n",
    "        f1[6] = calculaF1(acertos[6],fp[6],fn[6])\n",
    "\n",
    "\n",
    "        linha ={\"BUSCA\":busca,\"Resultado Esperado\": row['Retorno Esperado'],\\\n",
    "                'RSLP': data['RSLP']['NOMESENCONTRADOS'],\"ACRSLP\": str( acertos[0]),\"FPRSLP\": str(fp[0]),\"FNRSLP\":str(fn[0]),\"F1RSLP\":str(f1[0]),\\\n",
    "                'SNOW': data['SNOW']['NOMESENCONTRADOS'],\"ACSNOW\": str( acertos[1]),\"FPSNOW\": str(fp[1]),\"FNSNOW\":str(fn[1]),\"F1SNOW\":str(f1[1]),\\\n",
    "                'CHAVESOUNDEX': data['CHAVESOUNDEX']['NOMESENCONTRADOS'],\"ACCHAVESOUNDEX\": str( acertos[2]),\"FPCHAVESOUNDEX\": str(fp[2]),\"FNCHAVESOUNDEX\":str(fn[2]),\"F1CHAVESOUNDEX\":str(f1[2]),\\\n",
    "                'BUSCABRV': data['BUSCABRV']['NOMESENCONTRADOS'],\"ACBUSCABRV\": str( acertos[3]),\"FPBUSCABRV\": str(fp[3]),\"FNBUSCABRV\":str(fn[3]),\"F1BUSCABRV\":str(f1[3]),\\\n",
    "                'BUSCABR': data['BUSCABR']['NOMESENCONTRADOS'],\"ACBUSCABR\": str( acertos[4]),\"FPBUSCABR\": str(fp[4]),\"FNBUSCABR\":str(fn[4]),\"F1BUSCABR\":str(f1[4]),\\\n",
    "                'METAPHONEBR': data['METAPHONEBR']['NOMESENCONTRADOS'],\"ACMETAPHONEBR\": str(acertos[5]),\"FPMETAPHONEBR\": str(fp[5]),\"FNMETAPHONEBR\":str(fn[5]),\"F1METAPHONEBR\":str(f1[5]),\\\n",
    "                'LIDER': data['LIDER']['NOMESENCONTRADOS'],\"ACLIDER\": str( acertos[6]),\"FPLIDER\": str(fp[6]),\"FNLIDER\":str(fn[6]),\"F1LIDER\":str(f1[6])  }\n",
    "\n",
    "        records.append(linha)\n",
    "\n",
    "\n",
    "    #Gerar linha com sumarizacao    \n",
    "    linha ={\"BUSCA\":\"\",\"Resultado Esperado\": \"\",\\\n",
    "            'RSLP': \"\",\"ACRSLP\": str( sumacertos[0]),\"FPRSLP\": str(sumfp[0]),\"FNRSLP\":str(sumfn[0]),\\\n",
    "            'SNOW': \"\",\"ACSNOW\": str( sumacertos[1]),\"FPSNOW\": str(sumfp[1]),\"FNSNOW\":str(sumfn[1]),\\\n",
    "            'CHAVESOUNDEX': \"\",\"ACCHAVESOUNDEX\": str( sumacertos[2]),\"FPCHAVESOUNDEX\": str(sumfp[2]),\"FNCHAVESOUNDEX\":str(sumfn[2]),\\\n",
    "            'BUSCABRV':\"\",\"ACBUSCABRV\": str( sumacertos[3]),\"FPBUSCABRV\": str(sumfp[3]),\"FNBUSCABRV\":str(sumfn[3]),\\\n",
    "            'BUSCABR': \"\",\"ACBUSCABR\": str( sumacertos[4]),\"FPBUSCABR\": str(sumfp[4]),\"FNBUSCABR\":str(sumfn[4]),\\\n",
    "            'METAPHONEBR': \"\",\"ACMETAPHONEBR\": str( sumacertos[5]),\"FPMETAPHONEBR\": str(sumfp[5]),\"FNMETAPHONEBR\":str(sumfn[5]),\\\n",
    "            'LIDER': \"\",\"ACLIDER\": str( sumacertos[6]),\"FPLIDER\": str(sumfp[6]),\"FNLIDER\":str(sumfn[6]) }\n",
    "\n",
    "    records.append(linha)\n",
    "\n",
    "\n",
    "    #Gerar metrica F1\n",
    "\n",
    "    # Os nomes das colunas devem seguir o mesmo padrao por causa da serialização em arquivo do pandas\n",
    "    linha = {\"BUSCA\":\"Algoritmo\",\"Resultado Esperado\":\"Precision\",\"RSLP\":\"Recall\",\"ACRSLP\":\"F1\"}\n",
    "    records.append(linha)\n",
    "\n",
    "    algoritmos =[\"RSLP\",\"SNOWBALL\",\"SOUNDEX\",\"BUSCABRV\",\"BUSCABR\",\"METAPHONEBR\",\"LIDER\"]\n",
    "\n",
    "    for x in range(0, 7): \n",
    "\n",
    "        precision = float(sumacertos[x])/(sumacertos[x]+sumfp[x])\n",
    "        recall = float(sumacertos[x])/(sumacertos[x]+sumfn[x])\n",
    "        f1 = float(2*(precision*recall)/(precision+recall))\n",
    "\n",
    "        precisionl = float(sumacertosl[x])/(sumacertosl[x]+sumfpl[x])\n",
    "        recalll = float(sumacertosl[x])/(sumacertosl[x]+sumfnl[x])\n",
    "        f1l = float(2*(precisionl*recalll)/(precisionl+recalll))   \n",
    "\n",
    "        linha = {\"BUSCA\":algoritmos[x],\"Resultado Esperado\":'{percent:.2%}'.format(percent=precision).replace('.',','),\n",
    "                 \"RSLP\":'{percent:.2%}'.format(percent=recall).replace('.',','),\"ACRSLP\":'{percent:.2%}'.format(percent=f1).replace('.',',')}\n",
    "\n",
    "        records.append(linha)\n",
    "\n",
    "        linha = {\"BUSCA\":algoritmos[x] + \" Levenshtein\",\"Resultado Esperado\":'{percent:.2%}'.format(percent=precisionl).replace('.',','),\n",
    "                 \"RSLP\":'{percent:.2%}'.format(percent=recalll).replace('.',','),\"ACRSLP\":'{percent:.2%}'.format(percent=f1l).replace('.',',')}\n",
    "\n",
    "        records.append(linha)    \n",
    "\n",
    "    df = pd.DataFrame(records,columns=[\"BUSCA\",\"Resultado Esperado\",\\\n",
    "                                       \"RSLP\",\"ACRSLP\",\"FPRSLP\",\"FNRSLP\",\"F1RSLP\",\\\n",
    "                                       \"SNOW\",\"ACSNOW\",\"FPSNOW\",\"FNSNOW\",\"F1SNOW\",\n",
    "                                       \"CHAVESOUNDEX\",\"ACCHAVESOUNDEX\",\"FPCHAVESOUNDEX\",\"FNCHAVESOUNDEX\",\"F1CHAVESOUNDEX\",\n",
    "                                       \"BUSCABRV\",\"ACBUSCABRV\",\"FPBUSCABRV\",\"FNBUSCABRV\",\"F1BUSCABRV\",\n",
    "                                       \"BUSCABR\",\"ACBUSCABR\",\"FPBUSCABR\",\"FNBUSCABR\",\"F1BUSCABR\",\n",
    "                                       \"METAPHONEBR\",\"ACMETAPHONEBR\",\"FPMETAPHONEBR\",\"FNMETAPHONEBR\",\"F1METAPHONEBR\",\n",
    "                                       \"LIDER\",\"ACLIDER\",\"FPLIDER\",\"FNLIDER\",\"F1LIDER\"])  \n",
    "\n",
    "\n",
    "\n",
    "    #Gravando o resultado em CSV\n",
    "    nomearq = 'testes_automaticos_lev2' + str(nroarq)+ '.csv'\n",
    "    df.to_csv(path_or_buf=nomearq,index=False,encoding='utf-8',sep=\";\")    "
   ]
  },
  {
   "cell_type": "code",
   "execution_count": 15,
   "metadata": {
    "collapsed": false
   },
   "outputs": [
    {
     "name": "stdout",
     "output_type": "stream",
     "text": [
      "Lendo buscas_milton_50.csv\n"
     ]
    },
    {
     "name": "stderr",
     "output_type": "stream",
     "text": [
      "C:\\Users\\Vinicius Martins\\Anaconda2\\lib\\site-packages\\ipykernel\\__main__.py:44: UnicodeWarning: Unicode equal comparison failed to convert both arguments to Unicode - interpreting them as being unequal\n",
      "C:\\Users\\Vinicius Martins\\Anaconda2\\lib\\site-packages\\ipykernel\\__main__.py:60: UnicodeWarning: Unicode equal comparison failed to convert both arguments to Unicode - interpreting them as being unequal\n"
     ]
    },
    {
     "name": "stdout",
     "output_type": "stream",
     "text": [
      "Lendo buscas_milton_100.csv\n",
      "Lendo buscas_milton_150.csv\n",
      "Lendo buscas_milton_200.csv\n"
     ]
    },
    {
     "name": "stderr",
     "output_type": "stream",
     "text": [
      "C:\\Users\\Vinicius Martins\\Anaconda2\\lib\\site-packages\\ipykernel\\__main__.py:52: UnicodeWarning: Unicode equal comparison failed to convert both arguments to Unicode - interpreting them as being unequal\n",
      "C:\\Users\\Vinicius Martins\\Anaconda2\\lib\\site-packages\\ipykernel\\__main__.py:65: UnicodeWarning: Unicode equal comparison failed to convert both arguments to Unicode - interpreting them as being unequal\n"
     ]
    }
   ],
   "source": [
    "qtds = [50,100,150,200]\n",
    "for nroarq in qtds:\n",
    "    #Carga do arquivo que contem os nomes para busca e os resultados esperados para cada nome de acordo com a base utilizada\n",
    "    nome_arq = 'buscas_milton_'+str(nroarq)+'.csv'\n",
    "    print('Lendo ' + nome_arq)\n",
    "    buscasdf = pd.read_csv(filepath_or_buffer=nome_arq, sep=';',encoding='utf-8')\n",
    "    calcula(nroarq)"
   ]
  },
  {
   "cell_type": "code",
   "execution_count": 6,
   "metadata": {
    "collapsed": false
   },
   "outputs": [
    {
     "name": "stdout",
     "output_type": "stream",
     "text": [
      "oi\n"
     ]
    }
   ],
   "source": [
    "print \"oi\""
   ]
  },
  {
   "cell_type": "code",
   "execution_count": null,
   "metadata": {
    "collapsed": true
   },
   "outputs": [],
   "source": []
  }
 ],
 "metadata": {
  "anaconda-cloud": {},
  "kernelspec": {
   "display_name": "Python [conda root]",
   "language": "python",
   "name": "conda-root-py"
  },
  "language_info": {
   "codemirror_mode": {
    "name": "ipython",
    "version": 2
   },
   "file_extension": ".py",
   "mimetype": "text/x-python",
   "name": "python",
   "nbconvert_exporter": "python",
   "pygments_lexer": "ipython2",
   "version": "2.7.12"
  }
 },
 "nbformat": 4,
 "nbformat_minor": 1
}
